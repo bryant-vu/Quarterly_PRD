{
 "cells": [
  {
   "cell_type": "code",
   "execution_count": 23,
   "metadata": {
    "collapsed": true
   },
   "outputs": [],
   "source": [
    "import pandas as pd\n",
    "import xlsxwriter"
   ]
  },
  {
   "cell_type": "code",
   "execution_count": 24,
   "metadata": {
    "collapsed": false
   },
   "outputs": [],
   "source": [
    "#list of relevant columns in each file\n",
    "cols_E = [\"Datetime\",\"PI-401.PV\",\"PI-402.PV\",\"PI-403.PV\",\"PIC-104.PV\",\"PIC-105.PV\"]\n",
    "cols_H = [\"Datetime\",\"PI-351.PV\",\"PI-301.PV\",\"PI-302.PV\",\"PI-303.PV\",\"PI-304.PV\",\"PI-107.PV\",\"PI-108.PV\"]"
   ]
  },
  {
   "cell_type": "code",
   "execution_count": 25,
   "metadata": {
    "collapsed": false,
    "scrolled": true
   },
   "outputs": [],
   "source": [
    "csv_files = [\"H.csv\",\"E.csv\"]\n",
    "\n",
    "#function to clean files and return relevant columns\n",
    "def clean_file(file):\n",
    "    df = pd.read_csv(file,header=4,encoding='utf-8')\n",
    "    df = df.iloc[8:]\n",
    "    df[\"Datetime\"] = df[\"Unnamed: 2\"] +\" \"+ df[\"Unnamed: 3\"]\n",
    "    if file == \"H.csv\":\n",
    "        cols = cols_H\n",
    "    elif file == \"E.csv\":\n",
    "        cols = cols_E\n",
    "    else: \n",
    "        print(\"Please rename files!\")\n",
    "    df = df[cols]\n",
    "    \n",
    "    for col in df.columns:\n",
    "        if col != \"Datetime\":\n",
    "            df[col] = pd.to_numeric(df[col])\n",
    "        else:\n",
    "            df[col] = pd.to_datetime(df[col])\n",
    "    return(df)"
   ]
  },
  {
   "cell_type": "code",
   "execution_count": 26,
   "metadata": {
    "collapsed": false
   },
   "outputs": [],
   "source": [
    "#apply function to clean files to csv files\n",
    "dictionary = {}\n",
    "for file in csv_files:\n",
    "    dictionary[file] = clean_file(file)"
   ]
  },
  {
   "cell_type": "code",
   "execution_count": 27,
   "metadata": {
    "collapsed": false
   },
   "outputs": [],
   "source": [
    "#merge dataframes into final df\n",
    "final = pd.merge(dictionary[\"H.csv\"],dictionary[\"E.csv\"],on=[\"Datetime\"])\n",
    "final[[\"PIC-104.PV\",\"PIC-105.PV\"]] = (final[[\"PIC-104.PV\",\"PIC-105.PV\"]]/51.7149).round(1)"
   ]
  },
  {
   "cell_type": "code",
   "execution_count": 28,
   "metadata": {
    "collapsed": false
   },
   "outputs": [],
   "source": [
    "#extract month and year elements\n",
    "month = final[\"Datetime\"].iloc[0].month\n",
    "year = final[\"Datetime\"].iloc[0].year"
   ]
  },
  {
   "cell_type": "code",
   "execution_count": 29,
   "metadata": {
    "collapsed": false
   },
   "outputs": [],
   "source": [
    "#define setpoints for each PRD\n",
    "setpoints = {\"PI-351.PV\":14.0,\"PI-401.PV\":15.0,\"PI-402.PV\":15.0,\"PI-403.PV\":15.0,\"PI-301.PV\":30.0,\"PI-302.PV\":30.0,\"PI-303.PV\":30.0,\"PI-304.PV\":20.0,\"PIC-104.PV\":25.0,\"PIC-105.PV\":25.0,\"PI-108.PV\":50.0,\"PI-107.PV\":55.0}"
   ]
  },
  {
   "cell_type": "code",
   "execution_count": 30,
   "metadata": {
    "collapsed": false
   },
   "outputs": [],
   "source": [
    "#create list of all PRDs\n",
    "cols_total = cols_E[1:] + cols_H[1:]"
   ]
  },
  {
   "cell_type": "code",
   "execution_count": 31,
   "metadata": {
    "collapsed": false
   },
   "outputs": [],
   "source": [
    "#define function to filter data for values > setpoint\n",
    "def filter_data(PRD):\n",
    "    new = final[final[PRD] > setpoints[PRD]]\n",
    "    new = new[[\"Datetime\",PRD]]\n",
    "    return(new)"
   ]
  },
  {
   "cell_type": "code",
   "execution_count": 32,
   "metadata": {
    "collapsed": false,
    "scrolled": true
   },
   "outputs": [],
   "source": [
    "#apply filter_data function\n",
    "filtered_df = {}\n",
    "for PRD in cols_total:\n",
    "    filtered_df[PRD] = filter_data(PRD)"
   ]
  },
  {
   "cell_type": "code",
   "execution_count": 57,
   "metadata": {
    "collapsed": false,
    "scrolled": true
   },
   "outputs": [],
   "source": [
    "#setup workbook and worksheet\n",
    "workbook = xlsxwriter.Workbook('PRD_Data_%d_%d.xlsx' %(year,month))\n",
    "worksheet = workbook.add_worksheet(\"%d-%d\" % (year,month))\n",
    "bold = workbook.add_format({'bold':True})\n",
    "worksheet.set_column('A:A',20)\n",
    "worksheet.set_column('B:B',10)\n",
    "worksheet.set_column('C:C',15)\n",
    "\n",
    "#write filtered data into cells\n",
    "row = 0\n",
    "col = 0\n",
    "for df in filtered_df:\n",
    "    for element in filtered_df[df]:\n",
    "        worksheet.write(row,col,element)\n",
    "        col += 1\n",
    "        worksheet.write(row,col,\"Setpoint: %d psig\" %setpoints[df])\n",
    "    row += 1\n",
    "    col = 0\n",
    "    if filtered_df[df].empty == True:\n",
    "        worksheet.write(row,col,\"No exceedances above setpoint in %d-%d.\" % (year,month))\n",
    "        row += 1\n",
    "    else:\n",
    "        for i,df_row in filtered_df[df].iterrows():\n",
    "            date = df_row['Datetime'].strftime('%Y-%m-%d %H:%M')\n",
    "            worksheet.write(row,col,date)\n",
    "            col += 1\n",
    "            worksheet.write(row,col,df_row[df])\n",
    "            row += 1\n",
    "            col = 0\n",
    "worksheet.write(row,col,\"Routine Sulfatreat changeouts exceedances are exempt; verify dates.\", bold)\n",
    "workbook.close()"
   ]
  },
  {
   "cell_type": "code",
   "execution_count": null,
   "metadata": {
    "collapsed": true
   },
   "outputs": [],
   "source": []
  }
 ],
 "metadata": {
  "anaconda-cloud": {},
  "kernelspec": {
   "display_name": "Python [conda root]",
   "language": "python",
   "name": "conda-root-py"
  },
  "language_info": {
   "codemirror_mode": {
    "name": "ipython",
    "version": 3
   },
   "file_extension": ".py",
   "mimetype": "text/x-python",
   "name": "python",
   "nbconvert_exporter": "python",
   "pygments_lexer": "ipython3",
   "version": "3.5.2"
  }
 },
 "nbformat": 4,
 "nbformat_minor": 1
}
